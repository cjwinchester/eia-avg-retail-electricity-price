{
 "cells": [
  {
   "cell_type": "markdown",
   "metadata": {},
   "source": [
    "# EIA average monthly retail price of electricity by state\n",
    "\n",
    "Some Python to hit the Energy Information Administration API to collect historical monthly average retail electricity prices by state (from the [Electric Power Monthly report](https://www.eia.gov/electricity/monthly/), which AFAIK is not available at this granual level from the agency's bulk data), and also to nab Bureau of Labor Statistics inflation data (annual averages of the [CPI-All Urban Consumers](https://data.bls.gov/timeseries/CUUR0000SA0?output_view=pct_1mth)) to adjust the numbers.\n",
    "\n",
    "To run this notebook:\n",
    "- Get [pipenv](https://docs.pipenv.org) if you don't have it already\n",
    "- Install the dependencies in the Pipfile: `pipenv install`\n",
    "- [Get your EIA API key here](https://www.eia.gov/developer/) and save it as an environmental variable called `EIA_API_KEY`\n",
    "- [Get your BLS API key here](https://data.bls.gov/registrationEngine/) and save it as an environmental variable called `BLS_API_KEY`"
   ]
  },
  {
   "cell_type": "markdown",
   "metadata": {},
   "source": [
    "### Import libraries"
   ]
  },
  {
   "cell_type": "code",
   "execution_count": 1,
   "metadata": {},
   "outputs": [],
   "source": [
    "import os\n",
    "import time\n",
    "import csv\n",
    "import json\n",
    "from itertools import groupby\n",
    "\n",
    "import requests\n",
    "import us\n",
    "import pandas as pd"
   ]
  },
  {
   "cell_type": "markdown",
   "metadata": {},
   "source": [
    "### Define some key variables and helper functions"
   ]
  },
  {
   "cell_type": "code",
   "execution_count": 25,
   "metadata": {},
   "outputs": [],
   "source": [
    "EIA_API_KEY = os.environ.get('EIA_API_KEY')\n",
    "BLS_API_KEY = os.environ.get('BLS_API_KEY')\n",
    "\n",
    "EIA_ENDPOINT_TEMPLATE = 'http://api.eia.gov/series/?api_key={key}&series_id=ELEC.PRICE.{state}-ALL.M'\n",
    "BLS_ENDPOINT = 'https://api.bls.gov/publicAPI/v2/timeseries/data/'\n",
    "\n",
    "EIA_CSV_FILE = 'avg-retail-price.csv'\n",
    "BLS_CSV_FILE = 'cpi-annual-averages.csv'\n",
    "\n",
    "CPI_SERIES = 'CUUR0000SA0'\n",
    "\n",
    "\n",
    "def mean(numbers):\n",
    "    '''Given a list of numbers, return the arithmatic mean'''\n",
    "    return round(float(sum(numbers)) / max(len(list(numbers)), 1), 3)\n",
    "\n",
    "\n",
    "def calculate_inflation(price=0, base_year_index=100.0, current_year_index=100.0):\n",
    "    '''Given a price, a base year index and the current year index, return the adjusted value\n",
    "       See: https://www.bls.gov/cpi/factsheets/cpi-math-calculations.pdf#page=2\n",
    "       \"constant dollars\"\n",
    "    '''\n",
    "    return round((float(base_year_index)/float(current_year_index))*price, 2)"
   ]
  },
  {
   "cell_type": "markdown",
   "metadata": {},
   "source": [
    "### Get EIA data, write to file"
   ]
  },
  {
   "cell_type": "code",
   "execution_count": 3,
   "metadata": {},
   "outputs": [],
   "source": [
    "with open(EIA_CSV_FILE, 'w') as f:\n",
    "    writer = csv.DictWriter(f, fieldnames=['state', 'month', 'year', 'price'])\n",
    "    writer.writeheader()\n",
    "\n",
    "    for state in us.states.STATES:\n",
    "        d = {'state': state.abbr}\n",
    "        endpoint = EIA_ENDPOINT_TEMPLATE.format(key=EIA_API_KEY, state=state.abbr)\n",
    "        r = requests.get(endpoint)\n",
    "\n",
    "        data = r.json()['series'][0]['data']\n",
    "        for m in data:\n",
    "            d['year'] = m[0][:4]\n",
    "            d['month'] = m[0][-2:]\n",
    "            d['price'] = m[1]\n",
    "            writer.writerow(d)\n",
    "\n",
    "        time.sleep(2)"
   ]
  },
  {
   "cell_type": "markdown",
   "metadata": {},
   "source": [
    "### Get BLS data, write to file"
   ]
  },
  {
   "cell_type": "code",
   "execution_count": 5,
   "metadata": {},
   "outputs": [],
   "source": [
    "with open(BLS_CSV_FILE, 'w') as f:\n",
    "    writer = csv.DictWriter(f, fieldnames=['year', 'avg'])\n",
    "    writer.writeheader()\n",
    "\n",
    "    headers = {'Content-type': 'application/json'}\n",
    "    \n",
    "    \"\"\"\n",
    "    We have to break it up into two API calls to handle the limitations on\n",
    "    the amount of data returned    \n",
    "    \"\"\"\n",
    "    years = (('2000', '2008'), ('2009', '2017'))\n",
    "\n",
    "    for y in years:\n",
    "        data = json.dumps({'seriesid': [CPI_SERIES],\n",
    "                           'startyear': y[0],\n",
    "                           'endyear': y[1]})\n",
    "\n",
    "        r = requests.post('https://api.bls.gov/publicAPI/v2/timeseries/data/',\n",
    "                          data=data, headers=headers, auth=(BLS_API_KEY, ''))\n",
    "        r.raise_for_status()\n",
    "\n",
    "        data = r.json()['Results']['series'][0]['data']\n",
    "        grouped_data = groupby(data, lambda x: x['year'])\n",
    "\n",
    "        for year, months in grouped_data:\n",
    "            avg = mean([float(x['value']) for x in months])\n",
    "            writer.writerow({'year': year, 'avg': avg})\n",
    "\n",
    "        time.sleep(2)"
   ]
  },
  {
   "cell_type": "code",
   "execution_count": 10,
   "metadata": {},
   "outputs": [],
   "source": [
    "# load EIA data into a dataframe\n",
    "df = pd.read_csv(EIA_CSV_FILE)\n",
    "\n",
    "# kill 2018 data\n",
    "df = eia_df[eia_df['year'] != 2018]"
   ]
  },
  {
   "cell_type": "code",
   "execution_count": 11,
   "metadata": {},
   "outputs": [
    {
     "data": {
      "text/html": [
       "<div>\n",
       "<style scoped>\n",
       "    .dataframe tbody tr th:only-of-type {\n",
       "        vertical-align: middle;\n",
       "    }\n",
       "\n",
       "    .dataframe tbody tr th {\n",
       "        vertical-align: top;\n",
       "    }\n",
       "\n",
       "    .dataframe thead th {\n",
       "        text-align: right;\n",
       "    }\n",
       "</style>\n",
       "<table border=\"1\" class=\"dataframe\">\n",
       "  <thead>\n",
       "    <tr style=\"text-align: right;\">\n",
       "      <th></th>\n",
       "      <th>state</th>\n",
       "      <th>month</th>\n",
       "      <th>year</th>\n",
       "      <th>price</th>\n",
       "    </tr>\n",
       "  </thead>\n",
       "  <tbody>\n",
       "    <tr>\n",
       "      <th>1</th>\n",
       "      <td>AL</td>\n",
       "      <td>12</td>\n",
       "      <td>2017</td>\n",
       "      <td>9.53</td>\n",
       "    </tr>\n",
       "    <tr>\n",
       "      <th>2</th>\n",
       "      <td>AL</td>\n",
       "      <td>11</td>\n",
       "      <td>2017</td>\n",
       "      <td>9.67</td>\n",
       "    </tr>\n",
       "    <tr>\n",
       "      <th>3</th>\n",
       "      <td>AL</td>\n",
       "      <td>10</td>\n",
       "      <td>2017</td>\n",
       "      <td>9.82</td>\n",
       "    </tr>\n",
       "    <tr>\n",
       "      <th>4</th>\n",
       "      <td>AL</td>\n",
       "      <td>9</td>\n",
       "      <td>2017</td>\n",
       "      <td>10.33</td>\n",
       "    </tr>\n",
       "    <tr>\n",
       "      <th>5</th>\n",
       "      <td>AL</td>\n",
       "      <td>8</td>\n",
       "      <td>2017</td>\n",
       "      <td>10.25</td>\n",
       "    </tr>\n",
       "  </tbody>\n",
       "</table>\n",
       "</div>"
      ],
      "text/plain": [
       "  state  month  year  price\n",
       "1    AL     12  2017   9.53\n",
       "2    AL     11  2017   9.67\n",
       "3    AL     10  2017   9.82\n",
       "4    AL      9  2017  10.33\n",
       "5    AL      8  2017  10.25"
      ]
     },
     "execution_count": 11,
     "metadata": {},
     "output_type": "execute_result"
    }
   ],
   "source": [
    "eia_df.head()"
   ]
  },
  {
   "cell_type": "code",
   "execution_count": 29,
   "metadata": {},
   "outputs": [],
   "source": [
    "# open BLS data file and turn it into a dict\n",
    "with open(BLS_CSV_FILE, 'r') as b:\n",
    "    cpi = [x.split(',') for x in b.read().splitlines()]\n",
    "    cpi.pop(0)\n",
    "\n",
    "cd = dict(cpi)\n",
    "cpi_dict = {int(x): float(cd[x]) for x in cd}"
   ]
  },
  {
   "cell_type": "code",
   "execution_count": 26,
   "metadata": {},
   "outputs": [],
   "source": [
    "df['adjusted_price'] = df.apply(lambda x: calculate_inflation(price=x['price'],\n",
    "                                                              base_year_index=cpi_dict[2017],\n",
    "                                                              current_year_index=cpi_dict[x['year']]), axis=1)"
   ]
  },
  {
   "cell_type": "code",
   "execution_count": 30,
   "metadata": {},
   "outputs": [
    {
     "data": {
      "text/html": [
       "<div>\n",
       "<style scoped>\n",
       "    .dataframe tbody tr th:only-of-type {\n",
       "        vertical-align: middle;\n",
       "    }\n",
       "\n",
       "    .dataframe tbody tr th {\n",
       "        vertical-align: top;\n",
       "    }\n",
       "\n",
       "    .dataframe thead th {\n",
       "        text-align: right;\n",
       "    }\n",
       "</style>\n",
       "<table border=\"1\" class=\"dataframe\">\n",
       "  <thead>\n",
       "    <tr style=\"text-align: right;\">\n",
       "      <th></th>\n",
       "      <th>state</th>\n",
       "      <th>month</th>\n",
       "      <th>year</th>\n",
       "      <th>price</th>\n",
       "      <th>adjusted_price</th>\n",
       "    </tr>\n",
       "  </thead>\n",
       "  <tbody>\n",
       "    <tr>\n",
       "      <th>10450</th>\n",
       "      <td>WY</td>\n",
       "      <td>5</td>\n",
       "      <td>2001</td>\n",
       "      <td>4.40</td>\n",
       "      <td>6.09</td>\n",
       "    </tr>\n",
       "    <tr>\n",
       "      <th>10451</th>\n",
       "      <td>WY</td>\n",
       "      <td>4</td>\n",
       "      <td>2001</td>\n",
       "      <td>4.26</td>\n",
       "      <td>5.90</td>\n",
       "    </tr>\n",
       "    <tr>\n",
       "      <th>10452</th>\n",
       "      <td>WY</td>\n",
       "      <td>3</td>\n",
       "      <td>2001</td>\n",
       "      <td>4.34</td>\n",
       "      <td>6.01</td>\n",
       "    </tr>\n",
       "    <tr>\n",
       "      <th>10453</th>\n",
       "      <td>WY</td>\n",
       "      <td>2</td>\n",
       "      <td>2001</td>\n",
       "      <td>4.36</td>\n",
       "      <td>6.04</td>\n",
       "    </tr>\n",
       "    <tr>\n",
       "      <th>10454</th>\n",
       "      <td>WY</td>\n",
       "      <td>1</td>\n",
       "      <td>2001</td>\n",
       "      <td>4.31</td>\n",
       "      <td>5.97</td>\n",
       "    </tr>\n",
       "  </tbody>\n",
       "</table>\n",
       "</div>"
      ],
      "text/plain": [
       "      state  month  year  price  adjusted_price\n",
       "10450    WY      5  2001   4.40            6.09\n",
       "10451    WY      4  2001   4.26            5.90\n",
       "10452    WY      3  2001   4.34            6.01\n",
       "10453    WY      2  2001   4.36            6.04\n",
       "10454    WY      1  2001   4.31            5.97"
      ]
     },
     "execution_count": 30,
     "metadata": {},
     "output_type": "execute_result"
    }
   ],
   "source": [
    "df.tail()"
   ]
  },
  {
   "cell_type": "code",
   "execution_count": null,
   "metadata": {},
   "outputs": [],
   "source": [
    "# TK: plot by state"
   ]
  }
 ],
 "metadata": {
  "kernelspec": {
   "display_name": "Python 3",
   "language": "python",
   "name": "python3"
  },
  "language_info": {
   "codemirror_mode": {
    "name": "ipython",
    "version": 3
   },
   "file_extension": ".py",
   "mimetype": "text/x-python",
   "name": "python",
   "nbconvert_exporter": "python",
   "pygments_lexer": "ipython3",
   "version": "3.6.4"
  }
 },
 "nbformat": 4,
 "nbformat_minor": 2
}
